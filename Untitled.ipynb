{
 "cells": [
  {
   "cell_type": "code",
   "execution_count": 1,
   "id": "de73d745-86af-47de-af7a-7548819971e7",
   "metadata": {},
   "outputs": [
    {
     "name": "stdout",
     "output_type": "stream",
     "text": [
      "[11, 22, 33, 44, 55]\n"
     ]
    }
   ],
   "source": [
    "import numpy as np\n",
    "array=[11,22,33,44,55]\n",
    "print(array)"
   ]
  },
  {
   "cell_type": "code",
   "execution_count": 15,
   "id": "90e9f85d-cd84-41ae-a88f-64f6ca7d3777",
   "metadata": {},
   "outputs": [
    {
     "name": "stdout",
     "output_type": "stream",
     "text": [
      "[11 22 33 44 55 66]\n",
      "1\n",
      "(6,)\n",
      "[[11 22]\n",
      " [33 44]\n",
      " [55 66]]\n"
     ]
    },
    {
     "data": {
      "text/plain": [
       "[array([11, 22]), array([33, 44]), array([55]), array([66])]"
      ]
     },
     "execution_count": 15,
     "metadata": {},
     "output_type": "execute_result"
    }
   ],
   "source": [
    "import numpy as np\n",
    "arr1=np.array([11,22,33,44,55,66])\n",
    "print(arr1)\n",
    "print(arr1.ndim)\n",
    "print(arr1.shape)\n",
    "x=arr1.reshape(3,2)\n",
    "print(x)\n",
    "np.array_split(arr1,4)"
   ]
  },
  {
   "cell_type": "code",
   "execution_count": 19,
   "id": "80c8c129-88e0-4ead-a38e-c95cc4397179",
   "metadata": {},
   "outputs": [
    {
     "name": "stdout",
     "output_type": "stream",
     "text": [
      "11\n",
      "[22 33 44]\n"
     ]
    }
   ],
   "source": [
    "arr2=np.array([11,22,33,44,55,66])\n",
    "print(arr2[0])\n",
    "print(arr2[1:4])\n"
   ]
  },
  {
   "cell_type": "code",
   "execution_count": 27,
   "id": "07d69e4b-9b16-49d8-a64c-17754f7faa08",
   "metadata": {},
   "outputs": [
    {
     "name": "stderr",
     "output_type": "stream",
     "text": [
      "<>:2: SyntaxWarning: list indices must be integers or slices, not tuple; perhaps you missed a comma?\n",
      "<>:2: SyntaxWarning: list indices must be integers or slices, not tuple; perhaps you missed a comma?\n",
      "C:\\Users\\User\\AppData\\Local\\Temp\\ipykernel_13768\\3282240881.py:2: SyntaxWarning: list indices must be integers or slices, not tuple; perhaps you missed a comma?\n",
      "  arr1=np.array([[11,22,33,44]\n",
      "C:\\Users\\User\\AppData\\Local\\Temp\\ipykernel_13768\\3282240881.py:2: SyntaxWarning: list indices must be integers or slices, not tuple; perhaps you missed a comma?\n",
      "  arr1=np.array([[11,22,33,44]\n",
      "C:\\Users\\User\\AppData\\Local\\Temp\\ipykernel_13768\\3282240881.py:2: SyntaxWarning: list indices must be integers or slices, not tuple; perhaps you missed a comma?\n",
      "  arr1=np.array([[11,22,33,44]\n",
      "C:\\Users\\User\\AppData\\Local\\Temp\\ipykernel_13768\\3282240881.py:2: SyntaxWarning: list indices must be integers or slices, not tuple; perhaps you missed a comma?\n",
      "  arr1=np.array([[11,22,33,44]\n",
      "C:\\Users\\User\\AppData\\Local\\Temp\\ipykernel_13768\\3282240881.py:2: SyntaxWarning: list indices must be integers or slices, not tuple; perhaps you missed a comma?\n",
      "  arr1=np.array([[11,22,33,44]\n"
     ]
    },
    {
     "ename": "TypeError",
     "evalue": "list indices must be integers or slices, not tuple",
     "output_type": "error",
     "traceback": [
      "\u001b[1;31m---------------------------------------------------------------------------\u001b[0m",
      "\u001b[1;31mTypeError\u001b[0m                                 Traceback (most recent call last)",
      "Cell \u001b[1;32mIn[27], line 2\u001b[0m\n\u001b[0;32m      1\u001b[0m \u001b[38;5;28;01mimport\u001b[39;00m \u001b[38;5;21;01mnumpy\u001b[39;00m \u001b[38;5;28;01mas\u001b[39;00m \u001b[38;5;21;01mnp\u001b[39;00m\n\u001b[1;32m----> 2\u001b[0m arr1\u001b[38;5;241m=\u001b[39mnp\u001b[38;5;241m.\u001b[39marray([[\u001b[38;5;241m11\u001b[39m,\u001b[38;5;241m22\u001b[39m,\u001b[38;5;241m33\u001b[39m,\u001b[38;5;241m44\u001b[39m]\n\u001b[0;32m      3\u001b[0m               [\u001b[38;5;241m55\u001b[39m,\u001b[38;5;241m66\u001b[39m,\u001b[38;5;241m77\u001b[39m,\u001b[38;5;241m88\u001b[39m],\n\u001b[0;32m      4\u001b[0m                [\u001b[38;5;241m99\u001b[39m,\u001b[38;5;241m91\u001b[39m,\u001b[38;5;241m61\u001b[39m,\u001b[38;5;241m51\u001b[39m],\n\u001b[0;32m      5\u001b[0m                  [ \u001b[38;5;241m41\u001b[39m,\u001b[38;5;241m31\u001b[39m,\u001b[38;5;241m21\u001b[39m,\u001b[38;5;241m11\u001b[39m]])\n\u001b[0;32m      7\u001b[0m \u001b[38;5;28mprint\u001b[39m(arr1)\n",
      "\u001b[1;31mTypeError\u001b[0m: list indices must be integers or slices, not tuple"
     ]
    }
   ],
   "source": [
    " import numpy as np\n",
    "arr1=np.array([[11,22,33,44]\n",
    "               [55,66,77,88],\n",
    "                [99,91,61,51],\n",
    "                  [ 41,31,21,11]])\n",
    "            \n",
    "print(arr1)"
   ]
  },
  {
   "cell_type": "code",
   "execution_count": 23,
   "id": "3ba076ae-9b4b-4f6a-b47a-520b71e081a2",
   "metadata": {},
   "outputs": [
    {
     "name": "stdout",
     "output_type": "stream",
     "text": [
      "4x4 Array with specific values:\n",
      " [[ 1  2  3  4]\n",
      " [ 5  6  7  8]\n",
      " [ 9 10 11 12]\n",
      " [13 14 15 16]]\n"
     ]
    }
   ],
   "source": [
    "import numpy as np\n",
    "\n",
    "\n",
    "array_4x4 = np.array([[1, 2, 3, 4],\n",
    "                      [5, 6, 7, 8],\n",
    "                      [9, 10, 11, 12],\n",
    "                      [13, 14, 15, 16]])\n",
    "\n",
    "print(\"4x4 Array with specific values:\\n\", array_4x4)\n",
    "\n"
   ]
  },
  {
   "cell_type": "code",
   "execution_count": 43,
   "id": "3ff0cf3a-32c5-4b73-8954-2ec66514097a",
   "metadata": {},
   "outputs": [
    {
     "name": "stdout",
     "output_type": "stream",
     "text": [
      "(4, 4)\n",
      "[[61 51]\n",
      " [21 11]]\n",
      "[[11 22 33 44]\n",
      " [55 66 77 88]\n",
      " [99 91 61 51]\n",
      " [41 31 21 11]]\n",
      "[[61 51]\n",
      " [21 11]]\n",
      "[[11 22 33 44]\n",
      " [55  0  0 88]\n",
      " [99  0  0 51]\n",
      " [41 31 21 11]]\n"
     ]
    }
   ],
   "source": [
    "import numpy as np\n",
    "arr3=np.array([[11,22,33,44],\n",
    "                     [55,66,77,88],\n",
    "                      [99,91,61,51],\n",
    "                      [ 41,31,21,11]])\n",
    "print(arr3.shape)\n",
    "sliced_values = arr3[2:4, 2:4]\n",
    "print(sliced_values)\n",
    "\n",
    "arr3[1,1]\n",
    "arr3[1,2]\n",
    "arr3[2,2]\n",
    "print(arr3)\n",
    "\n",
    "replace=arr3[2:4,2:4]\n",
    "print(replace)\n",
    "arr3[1:3,1:3]=0\n",
    "print(arr3)\n"
   ]
  },
  {
   "cell_type": "code",
   "execution_count": 45,
   "id": "8c0df693-a654-4fad-91b0-e557a2ed0ea7",
   "metadata": {},
   "outputs": [
    {
     "ename": "AttributeError",
     "evalue": "'numpy.ndarray' object has no attribute 'np'",
     "output_type": "error",
     "traceback": [
      "\u001b[1;31m---------------------------------------------------------------------------\u001b[0m",
      "\u001b[1;31mAttributeError\u001b[0m                            Traceback (most recent call last)",
      "Cell \u001b[1;32mIn[45], line 1\u001b[0m\n\u001b[1;32m----> 1\u001b[0m x\u001b[38;5;241m.\u001b[39mnp\u001b[38;5;241m.\u001b[39mzeros(\u001b[38;5;241m5\u001b[39m)\n\u001b[0;32m      2\u001b[0m \u001b[38;5;28mprint\u001b[39m(x)\n",
      "\u001b[1;31mAttributeError\u001b[0m: 'numpy.ndarray' object has no attribute 'np'"
     ]
    }
   ],
   "source": [
    "x=np.zeros(5)\n",
    "print(x)"
   ]
  },
  {
   "cell_type": "code",
   "execution_count": 47,
   "id": "9be5ff42-10e9-4f87-8dd0-cd53025b41f5",
   "metadata": {},
   "outputs": [
    {
     "name": "stdout",
     "output_type": "stream",
     "text": [
      "[1. 1. 1. 1. 1.]\n"
     ]
    }
   ],
   "source": [
    "x=np.ones(5)\n",
    "print(x)"
   ]
  },
  {
   "cell_type": "code",
   "execution_count": 51,
   "id": "78c8845b-8a46-416b-80a2-ceba947e6bde",
   "metadata": {},
   "outputs": [
    {
     "name": "stdout",
     "output_type": "stream",
     "text": [
      "[1 2 3 4 5 6 7 8 9]\n"
     ]
    }
   ],
   "source": [
    "x=np.arange(1,10)\n",
    "print(x)"
   ]
  },
  {
   "cell_type": "code",
   "execution_count": 53,
   "id": "008b0fc2-e394-431b-8305-9b2ba083cdd9",
   "metadata": {},
   "outputs": [
    {
     "name": "stdout",
     "output_type": "stream",
     "text": [
      "[ 1.    3.25  5.5   7.75 10.  ]\n"
     ]
    }
   ],
   "source": [
    "x=np. linspace(1,10,5)\n",
    "print(x)"
   ]
  },
  {
   "cell_type": "code",
   "execution_count": 105,
   "id": "a82774eb-de0c-434a-b1a4-eedb8a2abf66",
   "metadata": {},
   "outputs": [
    {
     "name": "stdout",
     "output_type": "stream",
     "text": [
      "[['1' 'Raj' 'IT' '60000' '5']\n",
      " ['2' 'Priya' 'HR' '45000' '3']\n",
      " ['3' 'Amit' 'Finance' '50000' '4']\n",
      " ['4' 'Suresh' 'Marketing' '55000' '6']\n",
      " ['5' 'Nina' 'Operations' '40000' '2']\n",
      " ['6' 'Vijay' 'IT' '62000' '5']\n",
      " ['7' 'Anita' 'HR' '47000' '3']\n",
      " ['8' 'Ravi' 'Finance' '51000' '4']\n",
      " ['9' 'Arjun' 'Marketing' '53000' '6']\n",
      " ['10' 'Meera' 'Operations' '42000' '2']\n",
      " ['11' 'Pooja' 'IT' '61000' '7']\n",
      " ['12' 'Manoj' 'HR' '46000' '4']\n",
      " ['13' 'Sneha' 'Finance' '52000' '5']\n",
      " ['14' 'Kiran' 'Marketing' '54000' '6']\n",
      " ['15' 'Rahul' 'Operations' '41000' '3']]\n"
     ]
    }
   ],
   "source": [
    "import numpy as np\n",
    "\n",
    "# Employee data (simplified)\n",
    "names = np.array(['Raj', 'Priya', 'Amit', 'Suresh', 'Nina', \n",
    "                  'Vijay', 'Anita', 'Ravi', 'Arjun', 'Meera',\n",
    "                  'Pooja', 'Manoj', 'Sneha', 'Kiran', 'Rahul'])\n",
    "\n",
    "departments = np.array(['IT', 'HR', 'Finance', 'Marketing', 'Operations',\n",
    "                        'IT', 'HR', 'Finance', 'Marketing', 'Operations',\n",
    "                        'IT', 'HR', 'Finance', 'Marketing', 'Operations'])\n",
    "\n",
    "salaries = np.array([60000, 45000, 50000, 55000, 40000,\n",
    "                     62000, 47000, 51000, 53000, 42000,\n",
    "                     61000, 46000, 52000, 54000, 41000])\n",
    "\n",
    "experience_years = np.array([5, 3, 4, 6, 2,\n",
    "                             5, 3, 4, 6, 2,\n",
    "                             7, 4, 5, 6, 3])\n",
    "\n",
    "# Employee IDs from 1 to 15\n",
    "employee_ids = np.arange(1, 16)\n",
    "\n",
    "# Combine into a structured NumPy array\n",
    "employee_data = np.column_stack((employee_ids, names, departments, salaries, experience_years))\n",
    "print(employee_data)\n",
    "mean_value = np.mean(salaries)\n",
    "mean_value = np.max(salaries)"
   ]
  },
  {
   "cell_type": "code",
   "execution_count": 57,
   "id": "08f72d04-e494-43f1-9ee5-964922f380cd",
   "metadata": {},
   "outputs": [
    {
     "name": "stdout",
     "output_type": "stream",
     "text": [
      "Time taken: 0.014658 seconds\n"
     ]
    }
   ],
   "source": [
    "import time\n",
    "\n",
    "\n",
    "start_time = time.time()\n",
    "\n",
    "for i in range(100001):\n",
    "   # pass  \n",
    "\n",
    "\n",
    "end_time = time.time()\n",
    "\n",
    "time_taken = end_time - start_time\n",
    "print(f\"Time taken: {time_taken:.6f} seconds\")\n"
   ]
  },
  {
   "cell_type": "code",
   "execution_count": 59,
   "id": "0fadf324-59ad-4f41-a414-51f46543bcf4",
   "metadata": {},
   "outputs": [
    {
     "name": "stdout",
     "output_type": "stream",
     "text": [
      "Time taken to create the array: 0.000000 seconds\n"
     ]
    }
   ],
   "source": [
    "import numpy as np\n",
    "import time\n",
    "\n",
    "\n",
    "start_time = time.time()\n",
    "\n",
    "\n",
    "array = np.arange(100001)\n",
    "\n",
    "\n",
    "end_time = time.time()\n",
    "\n",
    "\n",
    "time_taken = end_time - start_time\n",
    "print(f\"Time taken to create the array: {time_taken:.6f} seconds\")\n"
   ]
  },
  {
   "cell_type": "code",
   "execution_count": 61,
   "id": "4984bb52-3b76-4bbd-9c6b-72759cae8fdc",
   "metadata": {},
   "outputs": [
    {
     "name": "stdout",
     "output_type": "stream",
     "text": [
      "128 ms ± 13.6 ms per loop (mean ± std. dev. of 7 runs, 10 loops each)\n"
     ]
    }
   ],
   "source": [
    "%timeit a=[i for i in range(1000000)]"
   ]
  },
  {
   "cell_type": "code",
   "execution_count": 66,
   "id": "59aa0d71-7a64-40c1-a3fb-525c9b6af08b",
   "metadata": {},
   "outputs": [
    {
     "name": "stdout",
     "output_type": "stream",
     "text": [
      "2.39 ms ± 243 μs per loop (mean ± std. dev. of 7 runs, 100 loops each)\n"
     ]
    }
   ],
   "source": [
    "%timeit a=np. arange(1000000)"
   ]
  },
  {
   "cell_type": "markdown",
   "id": "a1274386-8b0d-454b-bf96-e96873766a85",
   "metadata": {},
   "source": [
    "# "
   ]
  },
  {
   "cell_type": "code",
   "execution_count": 82,
   "id": "4d25f7f2-edb4-4cdd-94ad-f39fac2ea80a",
   "metadata": {},
   "outputs": [
    {
     "name": "stdout",
     "output_type": "stream",
     "text": [
      "0.0029935836791992188\n"
     ]
    }
   ],
   "source": [
    "import numpy as np\n",
    "import time\n",
    "l1=list(range(10000))\n",
    "lst=time.time()\n",
    "for l in  l1:\n",
    "    if l==9999:\n",
    "     break\n",
    "let=time.time()\n",
    "execution=let-lst\n",
    "print(execution)\n",
    "    "
   ]
  },
  {
   "cell_type": "code",
   "execution_count": 91,
   "id": "f898283b-8307-4879-b66d-1176dbfb1b51",
   "metadata": {},
   "outputs": [
    {
     "name": "stdout",
     "output_type": "stream",
     "text": [
      "0.003752470016479492\n"
     ]
    }
   ],
   "source": [
    "a1=np.arange(100000)\n",
    "ast=time.time()\n",
    "for ln in a1:\n",
    "    if ln==9999:\n",
    "     break\n",
    "lst=time.time()\n",
    "time_taken=lst-ast\n",
    "print(time_taken)"
   ]
  },
  {
   "cell_type": "code",
   "execution_count": 93,
   "id": "96ace18a-da21-458d-87d0-7de19dc94eea",
   "metadata": {},
   "outputs": [
    {
     "name": "stdout",
     "output_type": "stream",
     "text": [
      "time.struct_time(tm_year=2021, tm_mon=8, tm_mday=3, tm_hour=10, tm_min=45, tm_sec=8, tm_wday=1, tm_yday=215, tm_isdst=-1)\n"
     ]
    }
   ],
   "source": [
    "import time\n",
    "string = \"Tue, 03 Aug 2021 10:45:08\"\n",
    "obj = time.strptime(string, \"%a, %d %b %Y %H:%M:%S\")\n",
    "print(obj)"
   ]
  },
  {
   "cell_type": "code",
   "execution_count": 101,
   "id": "e2754bc9-8779-4325-af1c-e2cd5dd9ce14",
   "metadata": {},
   "outputs": [
    {
     "ename": "TypeError",
     "evalue": "dot() missing 1 required positional argument: 'b'",
     "output_type": "error",
     "traceback": [
      "\u001b[1;31m---------------------------------------------------------------------------\u001b[0m",
      "\u001b[1;31mTypeError\u001b[0m                                 Traceback (most recent call last)",
      "Cell \u001b[1;32mIn[101], line 5\u001b[0m\n\u001b[0;32m      3\u001b[0m matrix2\u001b[38;5;241m=\u001b[39mnp\u001b[38;5;241m.\u001b[39marray([[\u001b[38;5;241m1\u001b[39m,\u001b[38;5;241m2\u001b[39m],[\u001b[38;5;241m2\u001b[39m,\u001b[38;5;241m4\u001b[39m]])\n\u001b[0;32m      4\u001b[0m matrix_product\u001b[38;5;241m=\u001b[39m(matrix1\u001b[38;5;241m*\u001b[39mmatrix2)\n\u001b[1;32m----> 5\u001b[0m matrixx_product\u001b[38;5;241m=\u001b[39mnp\u001b[38;5;241m.\u001b[39mdot(matrix1\u001b[38;5;241m*\u001b[39mmatrix2)\n\u001b[0;32m      6\u001b[0m \u001b[38;5;28mprint\u001b[39m(matrixx_product)\n\u001b[0;32m      7\u001b[0m \u001b[38;5;28mprint\u001b[39m(matrix_product)\n",
      "\u001b[1;31mTypeError\u001b[0m: dot() missing 1 required positional argument: 'b'"
     ]
    }
   ],
   "source": [
    " import numpy as np\n",
    "matrix1=np.array([[1,2],[2,4]])\n",
    "matrix2=np.array([[1,2],[2,4]])\n",
    "matrix_product=(matrix1*matrix2)\n",
    "matrixx_product=np.dot(matrix1*matrix2)\n",
    "print(matrixx_product)\n",
    "print(matrix_product)"
   ]
  },
  {
   "cell_type": "code",
   "execution_count": null,
   "id": "9ccc4b0b-9842-43e4-911b-cd42530dd589",
   "metadata": {},
   "outputs": [],
   "source": []
  },
  {
   "cell_type": "code",
   "execution_count": null,
   "id": "766331dd-c391-45d8-8325-c683941630e1",
   "metadata": {},
   "outputs": [],
   "source": []
  },
  {
   "cell_type": "code",
   "execution_count": null,
   "id": "7d3d9ad5-a9c8-4d00-b850-916486bdec0a",
   "metadata": {},
   "outputs": [],
   "source": []
  },
  {
   "cell_type": "code",
   "execution_count": null,
   "id": "e64e6623-d5cb-44c6-815d-73a67d392dc9",
   "metadata": {},
   "outputs": [],
   "source": [
    " import numpy as np\n",
    "random_number=np.random.rand()\n",
    "\n"
   ]
  },
  {
   "cell_type": "code",
   "execution_count": null,
   "id": "f7b38d9e-efa3-41c1-bf28-e0202ed8a143",
   "metadata": {},
   "outputs": [],
   "source": [
    "array1=np.array\n",
    "\n",
    "\n"
   ]
  },
  {
   "cell_type": "code",
   "execution_count": 3,
   "id": "6d74bed8-c6c9-4655-9102-aaf4620ff103",
   "metadata": {},
   "outputs": [
    {
     "name": "stderr",
     "output_type": "stream",
     "text": [
      "UsageError: Line magic function `%timeit[j**4` not found.\n"
     ]
    }
   ],
   "source": [
    "%timeit[j**4 for j  in range(1,9)]"
   ]
  },
  {
   "cell_type": "code",
   "execution_count": 5,
   "id": "2698a48e-2647-4530-b235-43f764f3a7fd",
   "metadata": {},
   "outputs": [
    {
     "name": "stdout",
     "output_type": "stream",
     "text": [
      "2.78 μs ± 603 ns per loop (mean ± std. dev. of 7 runs, 100,000 loops each)\n"
     ]
    }
   ],
   "source": [
    "%timeit [j**4 for j in range(1,9)]"
   ]
  },
  {
   "cell_type": "code",
   "execution_count": 7,
   "id": "ced49897-7fbc-41a1-8991-a9fc10c3b154",
   "metadata": {},
   "outputs": [
    {
     "name": "stdout",
     "output_type": "stream",
     "text": [
      "5.26 μs ± 678 ns per loop (mean ± std. dev. of 7 runs, 100,000 loops each)\n"
     ]
    }
   ],
   "source": [
    "import numpy as np\n",
    "%timeit np.arange(1,9)**4"
   ]
  },
  {
   "cell_type": "code",
   "execution_count": 9,
   "id": "0a511510-6232-4f1f-acc4-2913b2f144ea",
   "metadata": {},
   "outputs": [
    {
     "name": "stdout",
     "output_type": "stream",
     "text": [
      "8.93 μs ± 1.2 μs per loop (mean ± std. dev. of 7 runs, 100,000 loops each)\n"
     ]
    }
   ],
   "source": [
    "import numpy as np\n",
    "%timeit np.arange(1,200)**4"
   ]
  },
  {
   "cell_type": "code",
   "execution_count": 11,
   "id": "e0368874-22e1-4745-9fc9-5f07d9897707",
   "metadata": {},
   "outputs": [
    {
     "name": "stdout",
     "output_type": "stream",
     "text": [
      "[ 1  2  3  4 56]\n"
     ]
    }
   ],
   "source": [
    "import numpy as np\n",
    "x=[1,2,3,4,56]\n",
    "y=np.array(x)\n",
    "print(y)"
   ]
  },
  {
   "cell_type": "code",
   "execution_count": null,
   "id": "331e694e-427c-439c-8023-a5204442f691",
   "metadata": {},
   "outputs": [],
   "source": [
    "# how to create numpy array"
   ]
  },
  {
   "cell_type": "code",
   "execution_count": 19,
   "id": "ad7d2339-d40d-4932-be22-ceeb05b7a25a",
   "metadata": {},
   "outputs": [
    {
     "data": {
      "text/plain": [
       "array([ 2,  3,  4,  5, 67])"
      ]
     },
     "execution_count": 19,
     "metadata": {},
     "output_type": "execute_result"
    }
   ],
   "source": [
    " import numpy as np\n",
    " arr1=np.array([2,3,4,5,67])\n",
    "arr1\n",
    " type(arr1)\n",
    "arr1"
   ]
  },
  {
   "cell_type": "code",
   "execution_count": null,
   "id": "587798c6-35e1-49eb-b3ac-f1ca03af3e38",
   "metadata": {},
   "outputs": [],
   "source": [
    " #how to take input"
   ]
  },
  {
   "cell_type": "code",
   "execution_count": null,
   "id": "c2630e7d-135f-4da9-8ec5-8928ecda4344",
   "metadata": {},
   "outputs": [],
   "source": [
    "l=[] \n",
    "for i in range(1,8):\n",
    "     int_1=int(input(\"enter:\"))\n",
    "     l.append(int_1)\n",
    "     print(np.array(l))"
   ]
  },
  {
   "cell_type": "code",
   "execution_count": 35,
   "id": "b73ec60c-903f-44e5-beb5-874f6a987cf9",
   "metadata": {},
   "outputs": [
    {
     "data": {
      "text/plain": [
       "array([23, 45, 67, 89])"
      ]
     },
     "execution_count": 35,
     "metadata": {},
     "output_type": "execute_result"
    }
   ],
   "source": [
    "#how to find  array  dimn\n",
    "#use -ndim\n",
    "\n",
    "import  numpy as np\n",
    "arr2=np.array([23,45,67,89])\n",
    "arr2\n"
   ]
  },
  {
   "cell_type": "code",
   "execution_count": 50,
   "id": "d7081fb6-c6a3-4f29-a4ff-cd752fae76bf",
   "metadata": {},
   "outputs": [
    {
     "name": "stdout",
     "output_type": "stream",
     "text": [
      "2\n"
     ]
    }
   ],
   "source": [
    "import  numpy as np\n",
    "arr2=np.array([[23,45,67,89],[45,56,55,55],[34,45,55,66],[45,67,66,55]])\n",
    "print(arr2.ndim)\n",
    "\n"
   ]
  },
  {
   "cell_type": "code",
   "execution_count": 70,
   "id": "4c2ae35c-5e28-4926-a488-4d331bbe1efc",
   "metadata": {},
   "outputs": [
    {
     "name": "stdout",
     "output_type": "stream",
     "text": [
      "[[[22 45 67 67]\n",
      "  [56 78 78 66]\n",
      "  [45 56 55 44]]]\n",
      "3\n"
     ]
    }
   ],
   "source": [
    "import numpy as np\n",
    "arr3=np.array([[[22,45,67,67],[56,78,78,66],[45,56,55,44]]])\n",
    "print(arr3)\n",
    "print(arr3.ndim)\n"
   ]
  },
  {
   "cell_type": "code",
   "execution_count": 74,
   "id": "d8c27a01-6b22-48e6-9d25-3848d2c11f06",
   "metadata": {},
   "outputs": [
    {
     "name": "stdout",
     "output_type": "stream",
     "text": [
      "[[[[22 45 67 67]\n",
      "   [56 78 78 66]\n",
      "   [45 56 55 44]\n",
      "   [34 56 66 66]]]]\n",
      "4\n"
     ]
    }
   ],
   "source": [
    "arr3=np.array([[[[22,45,67,67],[56,78,78,66],[45,56,55,44],[34,56,66,66]]]])\n",
    "print(arr3)\n",
    "print(arr3.ndim)"
   ]
  },
  {
   "cell_type": "code",
   "execution_count": 82,
   "id": "53531ca2-c3a0-41a0-b362-1545d47b0c02",
   "metadata": {},
   "outputs": [
    {
     "name": "stdout",
     "output_type": "stream",
     "text": [
      "[[[[[[[22 45 67 67]\n",
      "      [56 78 78 66]\n",
      "      [45 56 55 44]\n",
      "      [45 67 77 78]\n",
      "      [34 56 66 77]]]]]]]\n",
      "7\n"
     ]
    }
   ],
   "source": [
    "arr3=np.array([[[[[[[22,45,67,67],[56,78,78,66],[45,56,55,44],[45,67,77,78],[34,56,66,77]]]]]]])\n",
    "print(arr3)\n",
    "print(arr3.ndim)"
   ]
  },
  {
   "cell_type": "code",
   "execution_count": 97,
   "id": "289b70f0-883f-4ff5-b04f-fe82c9539d51",
   "metadata": {},
   "outputs": [
    {
     "ename": "TypeError",
     "evalue": "Cannot interpret '4' as a data type",
     "output_type": "error",
     "traceback": [
      "\u001b[1;31m---------------------------------------------------------------------------\u001b[0m",
      "\u001b[1;31mTypeError\u001b[0m                                 Traceback (most recent call last)",
      "Cell \u001b[1;32mIn[97], line 3\u001b[0m\n\u001b[0;32m      1\u001b[0m \u001b[38;5;28;01mimport\u001b[39;00m \u001b[38;5;21;01mnumpy\u001b[39;00m \u001b[38;5;28;01mas\u001b[39;00m \u001b[38;5;21;01mnp\u001b[39;00m\n\u001b[0;32m      2\u001b[0m arr_zero\u001b[38;5;241m=\u001b[39mnp\u001b[38;5;241m.\u001b[39mzeros(\u001b[38;5;241m4\u001b[39m)\n\u001b[1;32m----> 3\u001b[0m arr_zero1\u001b[38;5;241m=\u001b[39mnp\u001b[38;5;241m.\u001b[39mzeros(\u001b[38;5;241m3\u001b[39m,\u001b[38;5;241m4\u001b[39m)\n\u001b[0;32m      4\u001b[0m arr_zero\n\u001b[0;32m      5\u001b[0m arr_zero1\n",
      "\u001b[1;31mTypeError\u001b[0m: Cannot interpret '4' as a data type"
     ]
    }
   ],
   "source": [
    "import numpy as np\n",
    "arr_zero=np.zeros(4)\n",
    "arr_zero1=np.zeros(3,4)\n",
    "arr_zero\n",
    "arr_zero1"
   ]
  },
  {
   "cell_type": "code",
   "execution_count": 99,
   "id": "caf5ef2f-b8cc-4330-9890-1bcb47d8e3c1",
   "metadata": {},
   "outputs": [
    {
     "data": {
      "text/plain": [
       "array([[0., 0., 0., 0.],\n",
       "       [0., 0., 0., 0.],\n",
       "       [0., 0., 0., 0.]])"
      ]
     },
     "execution_count": 99,
     "metadata": {},
     "output_type": "execute_result"
    }
   ],
   "source": [
    "import numpy as np\n",
    "arr_zero1=np.zeros((3,4))\n",
    "arr_zero1"
   ]
  },
  {
   "cell_type": "code",
   "execution_count": 103,
   "id": "87de9f4d-07a2-413c-bb6f-43deafaa14a2",
   "metadata": {},
   "outputs": [
    {
     "data": {
      "text/plain": [
       "array([3, 4])"
      ]
     },
     "execution_count": 103,
     "metadata": {},
     "output_type": "execute_result"
    }
   ],
   "source": [
    "import numpy as np\n",
    "arr_zero1=np.array([3,4])\n",
    "arr_zero1"
   ]
  },
  {
   "cell_type": "code",
   "execution_count": 113,
   "id": "877a891d-24a5-4cc7-93d4-1dd39912d16a",
   "metadata": {},
   "outputs": [
    {
     "data": {
      "text/plain": [
       "array([1., 1., 1., 1.])"
      ]
     },
     "execution_count": 113,
     "metadata": {},
     "output_type": "execute_result"
    }
   ],
   "source": [
    "arr_one =np.ones(4)\n",
    "arr_one"
   ]
  },
  {
   "cell_type": "code",
   "execution_count": 117,
   "id": "675fd878-1864-4f9e-912f-07d9f87f16c7",
   "metadata": {},
   "outputs": [
    {
     "name": "stdout",
     "output_type": "stream",
     "text": [
      "[2, 6, 2, 2, 3]\n",
      "1000\n",
      "1    0.186\n",
      "2    0.164\n",
      "3    0.162\n",
      "4    0.154\n",
      "5    0.168\n",
      "6    0.166\n",
      "Name: count, dtype: float64\n"
     ]
    }
   ],
   "source": [
    "import pandas as pd\n",
    "import random\n",
    "outcomes = []\n",
    "for i in range(1000):\n",
    " outcomes.append(random.randint(1,6))   \n",
    "print(outcomes[:5])\n",
    "print(len(outcomes))\n",
    "# series = pd.Series(outcomes)\n",
    "# series = pd.Series(outcomes).value_counts()\n",
    "# series = pd.Series(outcomes).value_counts()/pd.Series(outcomes).value_counts().sum()\n",
    "series = (pd.Series(outcomes).value_counts()/pd.Series(outcomes).value_counts().sum()).sort_index()\n",
    "print(series)"
   ]
  },
  {
   "cell_type": "code",
   "execution_count": 119,
   "id": "21dbbfca-b9d5-4c43-97c0-8d23210d63e7",
   "metadata": {},
   "outputs": [
    {
     "data": {
      "text/plain": [
       "<Axes: >"
      ]
     },
     "execution_count": 119,
     "metadata": {},
     "output_type": "execute_result"
    },
    {
     "data": {
      "image/png": "[encoded data removed]",
      "text/plain": [
       "<Figure size 640x480 with 1 Axes>"
      ]
     },
     "metadata": {},
     "output_type": "display_data"
    }
   ],
   "source": [
    "series.plot(kind='bar')"
   ]
  },
  {
   "cell_type": "code",
   "execution_count": 121,
   "id": "5fb48f0b-8dd5-4796-878e-7bc08334f8de",
   "metadata": {},
   "outputs": [
    {
     "data": {
      "text/plain": [
       "1    0.186\n",
       "2    0.350\n",
       "3    0.512\n",
       "4    0.666\n",
       "5    0.834\n",
       "6    1.000\n",
       "Name: count, dtype: float64"
      ]
     },
     "execution_count": 121,
     "metadata": {},
     "output_type": "execute_result"
    }
   ],
   "source": [
    "import numpy as np\n",
    "np.cumsum(series)"
   ]
  },
  {
   "cell_type": "code",
   "execution_count": null,
   "id": "de6b466a-52bf-47e0-a1a5-0ec460ff3be0",
   "metadata": {},
   "outputs": [],
   "source": []
  },
  {
   "cell_type": "code",
   "execution_count": 124,
   "id": "5e48b458-479a-48a8-8ace-c04a0aa982b9",
   "metadata": {},
   "outputs": [
    {
     "data": {
      "text/plain": [
       "<Axes: >"
      ]
     },
     "execution_count": 124,
     "metadata": {},
     "output_type": "execute_result"
    },
    {
     "data": {
      "image/png": "[encoded data removed]",
      "text/plain": [
       "<Figure size 640x480 with 1 Axes>"
      ]
     },
     "metadata": {},
     "output_type": "display_data"
    }
   ],
   "source": [
    "np.cumsum(series).plot(kind='bar')"
   ]
  },
  {
   "cell_type": "code",
   "execution_count": 126,
   "id": "0f2dcbc3-a94a-4e41-810b-a9db2771ea9f",
   "metadata": {},
   "outputs": [
    {
     "name": "stdout",
     "output_type": "stream",
     "text": [
      "[1, 2, 3, 4, 5, 6, 7, 8, 9]\n"
     ]
    }
   ],
   "source": [
    "my_list = [i for i in range(1, 10)]\n",
    "print(my_list)"
   ]
  },
  {
   "cell_type": "code",
   "execution_count": 128,
   "id": "d2ac5cb3-7d00-4753-b269-914911b2de9f",
   "metadata": {},
   "outputs": [
    {
     "name": "stdout",
     "output_type": "stream",
     "text": [
      "Execution completed.\n",
      "The result is 5.0\n",
      "Execution completed.\n",
      "Error: Cannot divide by zero.\n",
      "Execution completed.\n",
      "Error: Please provide numbers.\n"
     ]
    }
   ],
   "source": [
    "def divide_numbers(num1, num2):\n",
    "    try:\n",
    "        result = num1 / num2\n",
    "    except ZeroDivisionError:\n",
    "        return \"Error: Cannot divide by zero.\"\n",
    "    except TypeError:\n",
    "        return \"Error: Please provide numbers.\"\n",
    "    else:\n",
    "        return f\"The result is {result}\"\n",
    "    finally:\n",
    "        print(\"Execution completed.\")\n",
    "\n",
    "# Test the function\n",
    "print(divide_numbers(10, 2))  # Valid division\n",
    "print(divide_numbers(10, 0))  # Division by zero\n",
    "print(divide_numbers(10, 'a'))  # Invalid type\n"
   ]
  },
  {
   "cell_type": "code",
   "execution_count": 132,
   "id": "72c883b6-073b-4525-b051-19816ca334ce",
   "metadata": {},
   "outputs": [
    {
     "data": {
      "text/plain": [
       "'GeeksforGeeks'"
      ]
     },
     "execution_count": 132,
     "metadata": {},
     "output_type": "execute_result"
    }
   ],
   "source": [
    "string = 'gEEKSFORgEEKS'\n",
    "string.swapcase() "
   ]
  },
  {
   "cell_type": "code",
   "execution_count": 9,
   "id": "cca490f1-7a69-49a0-b316-f60d0f84fa00",
   "metadata": {},
   "outputs": [
    {
     "name": "stdout",
     "output_type": "stream",
     "text": [
      "3\n"
     ]
    }
   ],
   "source": [
    " import statistics as st\n",
    "print(st.mean([1,2,3,4,5]))"
   ]
  },
  {
   "cell_type": "code",
   "execution_count": 13,
   "id": "7662adbb-b6a4-4673-aa52-c4a782d5cb8e",
   "metadata": {},
   "outputs": [
    {
     "name": "stdout",
     "output_type": "stream",
     "text": [
      "53.25\n"
     ]
    }
   ],
   "source": [
    " import statistics as st\n",
    "print(st.mean([23,45,67,78]))"
   ]
  },
  {
   "cell_type": "code",
   "execution_count": 17,
   "id": "06214379-0ef0-46a5-926c-40891722954b",
   "metadata": {},
   "outputs": [
    {
     "ename": "SyntaxError",
     "evalue": "unmatched ')' (3213913594.py, line 2)",
     "output_type": "error",
     "traceback": [
      "\u001b[1;36m  Cell \u001b[1;32mIn[17], line 2\u001b[1;36m\u001b[0m\n\u001b[1;33m    print(st.median[23,45,56,99]))\u001b[0m\n\u001b[1;37m                                 ^\u001b[0m\n\u001b[1;31mSyntaxError\u001b[0m\u001b[1;31m:\u001b[0m unmatched ')'\n"
     ]
    }
   ],
   "source": [
    "import statistics as st\n",
    "print(st.median[23,45,56,99]))"
   ]
  },
  {
   "cell_type": "code",
   "execution_count": null,
   "id": "d727956e-fe18-4e7d-b0a0-0215212a2164",
   "metadata": {},
   "outputs": [],
   "source": []
  },
  {
   "cell_type": "code",
   "execution_count": 20,
   "id": "993fe96c-d749-4652-ae0e-b1161047a3b1",
   "metadata": {},
   "outputs": [
    {
     "name": "stdout",
     "output_type": "stream",
     "text": [
      "13\n"
     ]
    }
   ],
   "source": [
    "import statistics as st\n",
    "print(st.median([5,10,13,87,98]))"
   ]
  },
  {
   "cell_type": "code",
   "execution_count": 24,
   "id": "28917921-a61f-43d0-919f-136705378787",
   "metadata": {},
   "outputs": [
    {
     "name": "stdout",
     "output_type": "stream",
     "text": [
      "1\n"
     ]
    }
   ],
   "source": [
    "import statistics as st\n",
    "print(st.mode([1,5,-8,15,19,-20]))"
   ]
  },
  {
   "cell_type": "code",
   "execution_count": 26,
   "id": "589e18f8-9933-4062-9fc0-e33d1e87bb28",
   "metadata": {},
   "outputs": [
    {
     "name": "stdout",
     "output_type": "stream",
     "text": [
      "7.668736780560655\n"
     ]
    }
   ],
   "source": [
    "import statistics as st\n",
    "print(st.stdev([1,5,9,11,12,15,25]))"
   ]
  },
  {
   "cell_type": "code",
   "execution_count": null,
   "id": "fd81d9a9-7210-4d75-ba42-0020629e4379",
   "metadata": {},
   "outputs": [],
   "source": []
  }
 ],
 "metadata": {
  "kernelspec": {
   "display_name": "Python 3 (ipykernel)",
   "language": "python",
   "name": "python3"
  },
  "language_info": {
   "codemirror_mode": {
    "name": "ipython",
    "version": 3
   },
   "file_extension": ".py",
   "mimetype": "text/x-python",
   "name": "python",
   "nbconvert_exporter": "python",
   "pygments_lexer": "ipython3",
   "version": "3.12.4"
  }
 },
 "nbformat": 4,
 "nbformat_minor": 5
}
